{
  "nbformat": 4,
  "nbformat_minor": 0,
  "metadata": {
    "colab": {
      "name": "Untitled0.ipynb",
      "provenance": [],
      "authorship_tag": "ABX9TyOxxXe1nvVkS41Orl2s3P0Y",
      "include_colab_link": true
    },
    "kernelspec": {
      "name": "python3",
      "display_name": "Python 3"
    }
  },
  "cells": [
    {
      "cell_type": "markdown",
      "metadata": {
        "id": "view-in-github",
        "colab_type": "text"
      },
      "source": [
        "<a href=\"https://colab.research.google.com/github/lindasanchezz52/neuronal1/blob/main/Untitled0.ipynb\" target=\"_parent\"><img src=\"https://colab.research.google.com/assets/colab-badge.svg\" alt=\"Open In Colab\"/></a>"
      ]
    },
    {
      "cell_type": "code",
      "metadata": {
        "id": "gdyVokyuiz2V"
      },
      "source": [
        "import numpy as np\n",
        "import scipy as sc\n",
        "import matplotlib.pyplot as plt\n",
        "\n",
        "from sklearn.datasets import make_circles"
      ],
      "execution_count": 6,
      "outputs": []
    },
    {
      "cell_type": "code",
      "metadata": {
        "colab": {
          "base_uri": "https://localhost:8080/",
          "height": 265
        },
        "id": "FXhhr4UfjgN2",
        "outputId": "f1f49208-acd4-4d15-fdd0-f7fafd3bacd3"
      },
      "source": [
        "# CREAR EL DATA SET\n",
        "#numero de registros\n",
        "n = 500\n",
        "#numero de  caracteristicas\n",
        "p= 2\n",
        "\n",
        "X,Y = make_circles(n_samples=n,factor=0.5,noise=0.05)\n",
        "\n",
        "plt.scatter(X[Y==0, 0],X[Y==0, 1], c=\"skyblue\")\n",
        "plt.scatter(X[Y==1, 0],X[Y==1, 1], c=\"salmon\")\n",
        "plt.axis(\"equal\")\n",
        "plt.show()"
      ],
      "execution_count": 7,
      "outputs": [
        {
          "output_type": "display_data",
          "data": {
            "image/png": "[encoded data removed]",
            "text/plain": [
              "<Figure size 432x288 with 1 Axes>"
            ]
          },
          "metadata": {
            "tags": [],
            "needs_background": "light"
          }
        }
      ]
    },
    {
      "cell_type": "code",
      "metadata": {
        "id": "B3tA0iDVmp0k"
      },
      "source": [
        "#CLASE DE LA CAPA DE LA RED\n",
        "class neural_layer():\n",
        "  def __init__(self,n_conn,n_neur,atc_f):\n",
        "    self.atc_f = atc_f\n",
        "    self.b = np.random.rand(1,n_neur)     *2-1\n",
        "    self.w = np.random.rand(n_conn,n_neur)*2-1"
      ],
      "execution_count": 8,
      "outputs": []
    },
    {
      "cell_type": "code",
      "metadata": {
        "colab": {
          "base_uri": "https://localhost:8080/",
          "height": 283
        },
        "id": "2HUymFm0oUAi",
        "outputId": "040b2ee1-81a6-40fc-a64b-48cf4a0d2a6d"
      },
      "source": [
        "#LA FUNCION DE  ACTIVACION\n",
        "sigm = ( lambda x: 1/(1+np.e**(-x)),\n",
        "        lambda x: x*(1-x))\n",
        "\n",
        "#relu = lambda x: np.maximum(0,x)\n",
        "\n",
        "_x = np.linspace(-5,5,100)\n",
        "plt.plot(_x,sigm[0](_x)) "
      ],
      "execution_count": 9,
      "outputs": [
        {
          "output_type": "execute_result",
          "data": {
            "text/plain": [
              "[<matplotlib.lines.Line2D at 0x7f6eee213908>]"
            ]
          },
          "metadata": {
            "tags": []
          },
          "execution_count": 9
        },
        {
          "output_type": "display_data",
          "data": {
            "image/png": "[encoded data removed]",
            "text/plain": [
              "<Figure size 432x288 with 1 Axes>"
            ]
          },
          "metadata": {
            "tags": [],
            "needs_background": "light"
          }
        }
      ]
    },
    {
      "cell_type": "code",
      "metadata": {
        "id": "5D9nxZNQpLy4"
      },
      "source": [
        "def create_nn(topology, act_f):\n",
        "  nn = []\n",
        "  for i, layer in enumerate(topology[:-1]):\n",
        "\n",
        "    nn.append(neural_layer(topology[i], topology[i+1], act_f))\n",
        "\n",
        "  return nn\n",
        "\n",
        "\n",
        "topology = [p, 4, 8, 16, 8, 4, 1]\n",
        "neural_net = create_nn(topology, sigm)\n",
        "\n"
      ],
      "execution_count": 10,
      "outputs": []
    },
    {
      "cell_type": "code",
      "metadata": {
        "colab": {
          "base_uri": "https://localhost:8080/",
          "height": 243
        },
        "id": "oeX-cmpUdCLj",
        "outputId": "73492255-a589-48ba-8f69-b6c57607205b"
      },
      "source": [
        "#FUNCION DE COSTE el error cuadratico medio\n",
        "l2_cost = (lambda Yp, Yr: np.mean((Yp-Yr)**2),\n",
        "           lambda Yp, Yr: (Yp-Yr))\n",
        "\n",
        "#ENTRENANDO A LA RED NEURONAL\n",
        "def train(neural_net, X, Y, l2_cost,lr=0.5):\n",
        "  o = [(None, X)]\n",
        "\n",
        "  #forward pass\n",
        "  for i, layer in enumerate(neural_net):\n",
        "      z = out[-1][1] @ neural_net[i].w + neural_net[i].b\n",
        "      a = neural_net[i].act_f[0](z)\n",
        "      o.append((z,a))\n",
        "\n",
        "print(l2_cost[0](o[-1][1], Y))\n",
        "train(neural_net, X, Y, l2_cost, 0.5)\n",
        "\n",
        "\n",
        "\n",
        "\n"
      ],
      "execution_count": 11,
      "outputs": [
        {
          "output_type": "error",
          "ename": "NameError",
          "evalue": "ignored",
          "traceback": [
            "\u001b[0;31m---------------------------------------------------------------------------\u001b[0m",
            "\u001b[0;31mNameError\u001b[0m                                 Traceback (most recent call last)",
            "\u001b[0;32m<ipython-input-11-8dd74b767704>\u001b[0m in \u001b[0;36m<module>\u001b[0;34m()\u001b[0m\n\u001b[1;32m     13\u001b[0m       \u001b[0mo\u001b[0m\u001b[0;34m.\u001b[0m\u001b[0mappend\u001b[0m\u001b[0;34m(\u001b[0m\u001b[0;34m(\u001b[0m\u001b[0mz\u001b[0m\u001b[0;34m,\u001b[0m\u001b[0ma\u001b[0m\u001b[0;34m)\u001b[0m\u001b[0;34m)\u001b[0m\u001b[0;34m\u001b[0m\u001b[0;34m\u001b[0m\u001b[0m\n\u001b[1;32m     14\u001b[0m \u001b[0;34m\u001b[0m\u001b[0m\n\u001b[0;32m---> 15\u001b[0;31m \u001b[0mprint\u001b[0m\u001b[0;34m(\u001b[0m\u001b[0ml2_cost\u001b[0m\u001b[0;34m[\u001b[0m\u001b[0;36m0\u001b[0m\u001b[0;34m]\u001b[0m\u001b[0;34m(\u001b[0m\u001b[0mo\u001b[0m\u001b[0;34m[\u001b[0m\u001b[0;34m-\u001b[0m\u001b[0;36m1\u001b[0m\u001b[0;34m]\u001b[0m\u001b[0;34m[\u001b[0m\u001b[0;36m1\u001b[0m\u001b[0;34m]\u001b[0m\u001b[0;34m,\u001b[0m \u001b[0mY\u001b[0m\u001b[0;34m)\u001b[0m\u001b[0;34m)\u001b[0m\u001b[0;34m\u001b[0m\u001b[0;34m\u001b[0m\u001b[0m\n\u001b[0m\u001b[1;32m     16\u001b[0m \u001b[0mtrain\u001b[0m\u001b[0;34m(\u001b[0m\u001b[0mneural_net\u001b[0m\u001b[0;34m,\u001b[0m \u001b[0mX\u001b[0m\u001b[0;34m,\u001b[0m \u001b[0mY\u001b[0m\u001b[0;34m,\u001b[0m \u001b[0ml2_cost\u001b[0m\u001b[0;34m,\u001b[0m \u001b[0;36m0.5\u001b[0m\u001b[0;34m)\u001b[0m\u001b[0;34m\u001b[0m\u001b[0;34m\u001b[0m\u001b[0m\n\u001b[1;32m     17\u001b[0m \u001b[0;34m\u001b[0m\u001b[0m\n",
            "\u001b[0;31mNameError\u001b[0m: name 'o' is not defined"
          ]
        }
      ]
    }
  ]
}